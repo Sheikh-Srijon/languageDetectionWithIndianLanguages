{
 "cells": [
  {
   "cell_type": "code",
   "execution_count": 1,
   "id": "891a3e2d",
   "metadata": {},
   "outputs": [
    {
     "name": "stdout",
     "output_type": "stream",
     "text": [
      "Init Plugin\n",
      "Init Graph Optimizer\n",
      "Init Kernel\n"
     ]
    }
   ],
   "source": [
    "import tensorflow as tf\n",
    "\n",
    "from tensorflow.keras.preprocessing.text import Tokenizer\n",
    "from tensorflow.keras.preprocessing.sequence import pad_sequences\n",
    "from keras.preprocessing.text import hashing_trick\n",
    "import numpy as np\n",
    "import random\n",
    "import re "
   ]
  },
  {
   "cell_type": "markdown",
   "id": "4a301a38",
   "metadata": {},
   "source": [
    "## One hot encoding of latin and native scripts of every language"
   ]
  },
  {
   "cell_type": "code",
   "execution_count": 352,
   "id": "a67022e9",
   "metadata": {},
   "outputs": [],
   "source": [
    "LABEL_MAP = {\"bangla_latin\": [1, 0, 0, 0,0], \"bangla_native\": [0, 1, 0, 0,0], \"hindi_latin\":[0,0,1,0,0], \"hindi_native\":[0,0,0,1,0],\n",
    "            \"english\": [0,0,0,0,1]\n",
    "            }\n",
    "TRAIN_TEST_SPLIT = 0.85\n",
    "CORPUS_SIZE = 50000"
   ]
  },
  {
   "cell_type": "markdown",
   "id": "86227b83",
   "metadata": {},
   "source": [
    "## Load raw text data (no label)\n"
   ]
  },
  {
   "cell_type": "code",
   "execution_count": 3,
   "id": "b1b43a39",
   "metadata": {},
   "outputs": [],
   "source": [
    "bangla_translit_sentences = open(\"BanglaCorpus.txt\", \"r\").readlines()\n",
    "hindi_translit_sentences = open(\"HindiCorpus.txt\", \"r\").readlines()\n",
    "bangla_native_sentences = open(\"banglaNativeCorpus.txt\", \"r\").readlines()\n",
    "hindi_native_sentences = open(\"hindiNativeCorpus.txt\").readlines()\n",
    "hindi_native_sentences = hindi_native_sentences[:40000]"
   ]
  },
  {
   "cell_type": "markdown",
   "id": "13613975",
   "metadata": {},
   "source": [
    "## (TEMPORARY -- will refactor) Create textfile with sentences and labels"
   ]
  },
  {
   "cell_type": "code",
   "execution_count": 4,
   "id": "db94dc64",
   "metadata": {},
   "outputs": [],
   "source": [
    "\n",
    "# a helper function that writes wordbag of a given language \n",
    "# Comment: Not necessary to pass label vectors if we use 2D numpy matrices \n",
    "def create_labelled_dataset(source, destination, label):\n",
    "    fl = open(destination, \"w\") #create a new file and write to it\n",
    "    f = open(source, 'r')\n",
    "    lines = f.readlines()\n",
    "    # trim out the newline char\n",
    "    lines = map(lambda x: x.strip(\"\\n\"), lines)\n",
    "    for _ in lines:\n",
    "        onlyContainsLetters = True\n",
    "        # cleaning latinized strings to non alphabetic chars\n",
    "        if \"latin\" in label: \n",
    "            onlyContainsLetters = True \n",
    "            pattern = \"^[a-zA-Z]+$\"\n",
    "            test_str = _.replace(\" \",\"\")\n",
    "            onlyContainsLetters = re.match(pattern, test_str) # will be false if latin str has non alphabetic chars\n",
    "        if onlyContainsLetters:\n",
    "            labeled_sentence = _ + \" : \" + label + \"\\n\"\n",
    "            fl.write(labeled_sentence)\n",
    "    fl.close()"
   ]
  },
  {
   "cell_type": "code",
   "execution_count": 310,
   "id": "3d2ead7a",
   "metadata": {},
   "outputs": [],
   "source": [
    "def clean_latin_string(s):\n",
    "# trim out the newline char\n",
    "    s= s.split('\\n')\n",
    "    return s[0]"
   ]
  },
  {
   "cell_type": "code",
   "execution_count": 338,
   "id": "6d9a0a60",
   "metadata": {},
   "outputs": [],
   "source": [
    "def clean_native_string(s):\n",
    "    \n",
    "#     s= s.split('\\n')\n",
    "    s = s.replace(\"\\n\", \" \")\n",
    "    return s[0]"
   ]
  },
  {
   "cell_type": "code",
   "execution_count": 339,
   "id": "0a40ba67",
   "metadata": {},
   "outputs": [
    {
     "name": "stdout",
     "output_type": "stream",
     "text": [
      "ক\n"
     ]
    }
   ],
   "source": [
    "s = 'কন্ঠে আমার নাই সে আগের কথার ভি\\n'\n",
    "print(clean_native_string(s))"
   ]
  },
  {
   "cell_type": "code",
   "execution_count": 7,
   "id": "f00b942b",
   "metadata": {},
   "outputs": [],
   "source": [
    "# create labeled datasets as text file \n",
    "create_labelled_dataset(source=\"BanglaCorpus.txt\", destination= \"bangla_latin_labeled.txt\",label=\"bangla_latin\" )\n",
    "create_labelled_dataset(source=\"HindiCorpus.txt\", destination=\"hindi_latin_labeled.txt\", label = \"hindi_latin\")\n",
    "create_labelled_dataset(source=\"banglaNativeCorpus.txt\", destination= \"bangla_native_labeled.txt\",label=\"bangla_native\" )\n",
    "create_labelled_dataset(source=\"hindiNativeCorpus.txt\", destination=\"hindi_native_labeled.txt\", label=\"hindi-native\")"
   ]
  },
  {
   "cell_type": "code",
   "execution_count": 8,
   "id": "16e792c6",
   "metadata": {},
   "outputs": [],
   "source": [
    "bangla_labeled_sentences = open('bangla_latin_labeled.txt').readlines()\n",
    "hindi_labeled_sentences = open('hindi_latin_labeled.txt').readlines()\n",
    "bangla_native_labeled_sentences = open('bangla_native_labeled.txt').readlines()\n",
    "hindi_native_labeled_sentences = open('hindi_native_labeled.txt').readlines()"
   ]
  },
  {
   "cell_type": "code",
   "execution_count": 357,
   "id": "77c65d93",
   "metadata": {},
   "outputs": [],
   "source": [
    "## make all large input output matrix \n",
    "bangla_latin_text, bangla_latin_labelvec = datalabel(bangla_labeled_sentences)\n",
    "hindi_latin_text, hindi_latin_labelvec = datalabel(hindi_labeled_sentences)\n"
   ]
  },
  {
   "cell_type": "code",
   "execution_count": 358,
   "id": "24759ad9",
   "metadata": {},
   "outputs": [],
   "source": [
    "bangla_native_text = np.array(bangla_native_sentences)\n",
    "bangla_native_text = list(map( clean_native_string, bangla_native_text))\n",
    "bangla_native_text = np.array(bangla_native_text)\n",
    "bangla_native_labelvec = [LABEL_MAP[\"bangla_native\"] for i in range(len(bangla_native_text))]"
   ]
  },
  {
   "cell_type": "code",
   "execution_count": 359,
   "id": "6978d7a6",
   "metadata": {},
   "outputs": [],
   "source": [
    "# load hindi native \n",
    "hindi_native_text = np.array(hindi_native_sentences)\n",
    "hindi_native_text= list(map( clean_native_string, hindi_native_text))\n",
    "hindi_native_text = np.array(hindi_native_text)\n",
    "hindi_native_labelvec = [LABEL_MAP[\"hindi_native\"] for i in range(len(hindi_native_text))]\n"
   ]
  },
  {
   "cell_type": "code",
   "execution_count": 360,
   "id": "da0a2b46",
   "metadata": {},
   "outputs": [],
   "source": [
    "english_text = open(\"englishCorpus.txt\").readlines()\n",
    "englist_text = [clean_latin_string(s) for s in english_text]\n",
    "englist_text = list(filter(lambda x:  x, english_text))\n",
    "english_text = [s.split(\"\\n\")[0] for s in english_text]\n",
    "english_text = english_text[:CORPUS_SIZE]"
   ]
  },
  {
   "cell_type": "code",
   "execution_count": 361,
   "id": "4273a990",
   "metadata": {},
   "outputs": [],
   "source": [
    "english_labels = [LABEL_MAP[\"english\"] for i in range(len(english_text))]\n"
   ]
  },
  {
   "cell_type": "markdown",
   "id": "5e397fb9",
   "metadata": {},
   "source": [
    "## Refactoring old way of data loading to numpy matrices. Correct implementation but the Keras model cannot convert numpy array to tensor for some reason. Will Debug the error"
   ]
  },
  {
   "cell_type": "code",
   "execution_count": 283,
   "id": "77154a63",
   "metadata": {},
   "outputs": [],
   "source": [
    "# all_text = [bangla_latin_text,hindi_latin_text, bangla_native_text, hindi_native_text] \n",
    "# # all_labels = [bangla_latin_labelvec ,hindi_latin_labelvec,bangla_native_labelvec, hindi_native_labelvec]\n",
    "# all_labels = [\"bangla_latin\", \"hindi_latin\",\"bangla_native\", \"hindi_native\"]\n",
    "# # input_matrix = [[text,label] for (i,text) in enumerate(all_text) for label in all_labels[int(i)]]\n",
    "# input_matrix = []\n",
    "\n",
    "# for idx,data in enumerate(all_text): \n",
    "#     for i,text in enumerate(data): \n",
    "#          input_matrix.append(np.array([text, np.array(LABEL_MAP[ all_labels[idx] ])],dtype=object))\n",
    "# #         input_matrix.append(text, np.array(LABEL_MAP[ all_labels[idx] ]))\n",
    "# #np.append(res, arr[st:end], axis=0)\n",
    "\n",
    "# random.shuffle(input_matrix)\n",
    "# input_matrix = np.array(input_matrix, dtype=object )\n"
   ]
  },
  {
   "cell_type": "code",
   "execution_count": null,
   "id": "fae52354",
   "metadata": {},
   "outputs": [],
   "source": []
  },
  {
   "cell_type": "code",
   "execution_count": 284,
   "id": "c216d87f",
   "metadata": {},
   "outputs": [
    {
     "name": "stdout",
     "output_type": "stream",
     "text": [
      "(202996, 2)\n"
     ]
    }
   ],
   "source": [
    "# print(input_matrix.shape)\n"
   ]
  },
  {
   "cell_type": "markdown",
   "id": "93123810",
   "metadata": {},
   "source": [
    "## TEMPORARY LABEL ENCODING"
   ]
  },
  {
   "cell_type": "code",
   "execution_count": 370,
   "id": "9a263871",
   "metadata": {},
   "outputs": [],
   "source": [
    "#returns vector of labels\n",
    "'''\n",
    "    input: \n",
    "    @dataset (type list)\n",
    "    @labels = [bangla_latin, bangla_trans, hindi_latin, hindi_trans]\n",
    "    returns one hot encodings of wordvecs \n",
    "    \n",
    "    REFACTOR: redundant toreturn label_vec since  I am using array slicing now \n",
    "''' \n",
    "def datalabel(dataset):\n",
    "    sentences = []\n",
    "    label_vec = [] \n",
    "    \n",
    "    for td in dataset:\n",
    "        if \":\" in td:\n",
    "            ts, tl = td.split(\":\")\n",
    "# one hot encoding \n",
    "            label_str = tl.strip()\n",
    "            label_str = label_str.strip(\"\\n\")\n",
    "            if label_str not in LABEL_MAP: continue \n",
    "            label = LABEL_MAP[label_str]\n",
    "            sentences.append(ts)\n",
    "            label_vec.append(label)\n",
    "    return np.array(sentences), np.array(label_vec)"
   ]
  },
  {
   "cell_type": "code",
   "execution_count": 364,
   "id": "2fb712de",
   "metadata": {},
   "outputs": [],
   "source": [
    "## Native Bangla sentences are not being split with a colon. Unsure why. Is it because of multiple scripts being used? \n",
    "\n",
    "bangla_native_sentences = open(\"banglaNativeCorpus.txt\").readlines()\n",
    "bangla_native_labels = np.array( [LABEL_MAP[\"bangla_native\"] for x in range(40000) ])"
   ]
  },
  {
   "cell_type": "code",
   "execution_count": 371,
   "id": "de56786a",
   "metadata": {},
   "outputs": [],
   "source": [
    "hindi_sentences, hindi_labels = datalabel(hindi_labeled_sentences)\n",
    "bangla_sentences, bangla_labels = datalabel(bangla_labeled_sentences)"
   ]
  },
  {
   "cell_type": "code",
   "execution_count": 372,
   "id": "b393108d",
   "metadata": {},
   "outputs": [],
   "source": [
    "\n",
    "hindi_native_labels = np.array( [LABEL_MAP[\"hindi_native\"] for x in range(40000)])"
   ]
  },
  {
   "cell_type": "code",
   "execution_count": 373,
   "id": "cabcdc6a",
   "metadata": {},
   "outputs": [],
   "source": [
    "# write helper functions to stack arrays vertically for training set \n",
    "def stackDatasets(datasets, st=0, end=0, arr_type='None'):\n",
    "    res = np.array(datasets[0]) # init to first entry for dimension consistency in np.append\n",
    "    if arr_type == 'label': \n",
    "        res = [[]]\n",
    "    for arr in datasets[1:]: \n",
    "        res = np.append(res, arr[st:end], axis=0)\n",
    "    return res "
   ]
  },
  {
   "cell_type": "code",
   "execution_count": 374,
   "id": "4bf29069",
   "metadata": {
    "scrolled": true
   },
   "outputs": [
    {
     "name": "stdout",
     "output_type": "stream",
     "text": [
      "(45490,) (45490, 5)\n",
      "(43998,) (43998, 5)\n"
     ]
    }
   ],
   "source": [
    "print(hindi_sentences.shape, hindi_labels.shape)\n",
    "print(bangla_sentences.shape, bangla_labels.shape)"
   ]
  },
  {
   "cell_type": "code",
   "execution_count": 375,
   "id": "cb2cfdba",
   "metadata": {},
   "outputs": [
    {
     "name": "stdout",
     "output_type": "stream",
     "text": [
      "(148998,)\n"
     ]
    }
   ],
   "source": [
    "datasets = [bangla_sentences, hindi_sentences, bangla_native_sentences, hindi_native_sentences]\n",
    "r = stackDatasets(datasets, st=0, end=35000)\n",
    "print(r.shape)"
   ]
  },
  {
   "cell_type": "code",
   "execution_count": 376,
   "id": "e20680c5",
   "metadata": {},
   "outputs": [
    {
     "name": "stdout",
     "output_type": "stream",
     "text": [
      "(43998, 5)\n",
      "(45490, 5)\n",
      "(40000, 5)\n",
      "(40000, 5)\n"
     ]
    }
   ],
   "source": [
    "# check dimension of label arrays \n",
    "print(bangla_labels.shape)\n",
    "print(hindi_labels.shape)\n",
    "print(bangla_native_labels.shape)\n",
    "print(hindi_native_labels.shape)"
   ]
  },
  {
   "cell_type": "code",
   "execution_count": 377,
   "id": "6d1322ad",
   "metadata": {},
   "outputs": [],
   "source": [
    "NTrain = 35000\n",
    "NTest = 5000\n",
    "# training_sentences=np.append(bangla_sentences[0:NTrain],hindi_sentences[0:NTrain], axis=0)\n",
    "datasets = [bangla_sentences, hindi_sentences, bangla_native_sentences, hindi_native_sentences, english_text]\n",
    "\n",
    "training_sentences= stackDatasets(datasets, st=0, end=NTrain)\n",
    "# testing_sentences = np.append(bangla_sentences[NTrain:NTrain+NTest] ,hindi_sentences[NTrain:NTrain+NTest], axis=0)\n",
    "testing_sentences =stackDatasets(datasets, st=NTrain, end=NTrain+NTest)\n",
    "\n"
   ]
  },
  {
   "cell_type": "code",
   "execution_count": 378,
   "id": "9720679a",
   "metadata": {},
   "outputs": [
    {
     "name": "stdout",
     "output_type": "stream",
     "text": [
      "(183998,)\n"
     ]
    }
   ],
   "source": [
    "NTrain = 35000\n",
    "NTest = 5000\n",
    "allLabels = [bangla_labels, hindi_labels, bangla_native_labels, hindi_native_labels, english_labels]\n",
    "\n",
    "\n",
    "# training_labels = np.append(bangla_labels[0:NTrain], hindi_labels[0:NTrain], axis=0)\n",
    "training_labels = stackDatasets(allLabels, st=0, end=NTrain )\n",
    "\n",
    "# testing_labels = np.append(bangla_labels[NTrain: NTrain+NTest], hindi_labels[NTrain: NTrain+ NTest], axis=0)\n",
    "testing_labels = stackDatasets(allLabels, st =NTrain, end=NTrain+NTest)\n",
    "print(training_sentences.shape)"
   ]
  },
  {
   "cell_type": "markdown",
   "id": "d935baf1",
   "metadata": {},
   "source": [
    "\n",
    "## REFACTORING + Buggy: use 2D numpy matrix to load all preprocessed data "
   ]
  },
  {
   "cell_type": "code",
   "execution_count": 294,
   "id": "1e10d51c",
   "metadata": {},
   "outputs": [],
   "source": [
    "# import math\n",
    "# train_set_len = math.floor(len(input_matrix) * TRAIN_TEST_SPLIT)\n",
    "# train_set = input_matrix[0:train_set_len]\n",
    "# test_set = input_matrix[train_set_len:]\n",
    "# training_sentences = train_set[:,0]\n",
    "# training_labels = train_set[:,1]\n",
    "# testing_sentences = test_set[:,0]\n",
    "# testing_labels = test_set[:,1]\n",
    "\n",
    "# # convert to tensors \n",
    "# training_sentences = tf.convert_to_tensor(training_sentences)\n",
    "# training_labels = tf.convert_to_tensor(training_labels, dtype=tf.float32)\n",
    "# testing_sentences = tf.convert_to_tensor(testing_sentences)\n",
    "# testing_labels = tf.convert_to_tensor(testing_labels, dtype=tf.float32)"
   ]
  },
  {
   "cell_type": "code",
   "execution_count": null,
   "id": "760bf1ce",
   "metadata": {},
   "outputs": [],
   "source": []
  },
  {
   "cell_type": "code",
   "execution_count": 379,
   "id": "96a6c22b",
   "metadata": {},
   "outputs": [
    {
     "name": "stdout",
     "output_type": "stream",
     "text": [
      "(183998,)\n",
      "(183998, 5)\n",
      "(63998,)\n",
      "(63998, 5)\n"
     ]
    }
   ],
   "source": [
    "# training_sentences=np.append(bangla_sentences[0:NTrain],hindi_sentences[0:NTrain])\n",
    "print(training_sentences.shape)\n",
    "print(training_labels.shape)\n",
    "print(testing_sentences.shape)\n",
    "print(testing_labels.shape)\n",
    "\n"
   ]
  },
  {
   "cell_type": "code",
   "execution_count": 381,
   "id": "f9300c75",
   "metadata": {},
   "outputs": [
    {
     "name": "stdout",
     "output_type": "stream",
     "text": [
      "(183998,)\n"
     ]
    }
   ],
   "source": [
    "vocab_size = 12500\n",
    "embedding_dim = 16\n",
    "max_length = 100\n",
    "trunc_type='post'\n",
    "padding_type='post'\n",
    "oov_tok = \"<OOV>\"\n",
    "\n",
    "print(training_sentences.shape)\n"
   ]
  },
  {
   "cell_type": "code",
   "execution_count": 382,
   "id": "eb87c213",
   "metadata": {},
   "outputs": [],
   "source": [
    "tokenizer = Tokenizer(num_words=vocab_size, oov_token=oov_tok) # initialize tokenizer\n",
    "tokenizer.fit_on_texts(training_sentences) # will tokenize every word \n",
    "\n",
    "word_index = tokenizer.word_index # returns dict of word -> tokens\n",
    "\n",
    "training_sequences = tokenizer.texts_to_sequences(training_sentences) # every sentence now has a numeric, token ID\n",
    "training_padded = pad_sequences(training_sequences, maxlen=max_length, padding=padding_type, truncating=trunc_type) # padded to deal with various lengths \n",
    "\n",
    "testing_sequences = tokenizer.texts_to_sequences(testing_sentences)\n",
    "testing_padded = pad_sequences(testing_sequences, maxlen=max_length, padding=padding_type, truncating=trunc_type)"
   ]
  },
  {
   "cell_type": "code",
   "execution_count": 383,
   "id": "44b1407d",
   "metadata": {},
   "outputs": [],
   "source": [
    "training_padded = np.array(training_padded)\n",
    "training_labels = np.array(training_labels)\n",
    "testing_padded = np.array(testing_padded)\n",
    "testing_labels = np.array(testing_labels)"
   ]
  },
  {
   "cell_type": "code",
   "execution_count": 384,
   "id": "c1856035",
   "metadata": {},
   "outputs": [
    {
     "name": "stdout",
     "output_type": "stream",
     "text": [
      "[3801  666  581  555  307  382  938    0    0    0    0    0    0    0\n",
      "    0    0    0    0    0    0    0    0    0    0    0    0    0    0\n",
      "    0    0    0    0    0    0    0    0    0    0    0    0    0    0\n",
      "    0    0    0    0    0    0    0    0    0    0    0    0    0    0\n",
      "    0    0    0    0    0    0    0    0    0    0    0    0    0    0\n",
      "    0    0    0    0    0    0    0    0    0    0    0    0    0    0\n",
      "    0    0    0    0    0    0    0    0    0    0    0    0    0    0\n",
      "    0    0]\n"
     ]
    }
   ],
   "source": [
    "print(training_padded[1])"
   ]
  },
  {
   "cell_type": "code",
   "execution_count": 385,
   "id": "b598a57d",
   "metadata": {},
   "outputs": [],
   "source": [
    "model = tf.keras.Sequential([\n",
    "    tf.keras.layers.Embedding(vocab_size, embedding_dim, input_length=max_length),\n",
    "    tf.keras.layers.GlobalAveragePooling1D(), # just computes how far \"embedding vectors are\" from each other\n",
    "    tf.keras.layers.Dense(24, activation='relu'),\n",
    "    tf.keras.layers.Dense(5, activation='sigmoid')\n",
    "])\n",
    "model.compile(loss='categorical_crossentropy',optimizer='adam',metrics=['accuracy'])"
   ]
  },
  {
   "cell_type": "code",
   "execution_count": 386,
   "id": "2df82cba",
   "metadata": {},
   "outputs": [
    {
     "name": "stdout",
     "output_type": "stream",
     "text": [
      "Model: \"sequential_19\"\n",
      "_________________________________________________________________\n",
      "Layer (type)                 Output Shape              Param #   \n",
      "=================================================================\n",
      "embedding_17 (Embedding)     (None, 100, 16)           200000    \n",
      "_________________________________________________________________\n",
      "global_average_pooling1d_9 ( (None, 16)                0         \n",
      "_________________________________________________________________\n",
      "dense_25 (Dense)             (None, 24)                408       \n",
      "_________________________________________________________________\n",
      "dense_26 (Dense)             (None, 5)                 125       \n",
      "=================================================================\n",
      "Total params: 200,533\n",
      "Trainable params: 200,533\n",
      "Non-trainable params: 0\n",
      "_________________________________________________________________\n"
     ]
    }
   ],
   "source": [
    "model.summary()"
   ]
  },
  {
   "cell_type": "code",
   "execution_count": 387,
   "id": "ac539742",
   "metadata": {},
   "outputs": [
    {
     "name": "stdout",
     "output_type": "stream",
     "text": [
      "Epoch 1/10\n"
     ]
    },
    {
     "name": "stderr",
     "output_type": "stream",
     "text": [
      "2022-07-21 13:00:42.578325: I tensorflow/core/grappler/optimizers/custom_graph_optimizer_registry.cc:112] Plugin optimizer for device_type GPU is enabled.\n",
      "2022-07-21 13:01:28.489770: I tensorflow/core/grappler/optimizers/custom_graph_optimizer_registry.cc:112] Plugin optimizer for device_type GPU is enabled.\n"
     ]
    },
    {
     "name": "stdout",
     "output_type": "stream",
     "text": [
      "5750/5750 - 56s - loss: 0.4371 - accuracy: 0.8622 - val_loss: 0.2273 - val_accuracy: 0.9369\n",
      "Epoch 2/10\n",
      "5750/5750 - 54s - loss: 0.1220 - accuracy: 0.9622 - val_loss: 0.1264 - val_accuracy: 0.9696\n",
      "Epoch 3/10\n",
      "5750/5750 - 54s - loss: 0.0924 - accuracy: 0.9695 - val_loss: 0.1192 - val_accuracy: 0.9558\n",
      "Epoch 4/10\n",
      "5750/5750 - 54s - loss: 0.0813 - accuracy: 0.9719 - val_loss: 0.1074 - val_accuracy: 0.9570\n",
      "Epoch 5/10\n",
      "5750/5750 - 54s - loss: 0.0749 - accuracy: 0.9730 - val_loss: 0.0977 - val_accuracy: 0.9625\n",
      "Epoch 6/10\n",
      "5750/5750 - 54s - loss: 0.0715 - accuracy: 0.9736 - val_loss: 0.0890 - val_accuracy: 0.9697\n",
      "Epoch 7/10\n",
      "5750/5750 - 54s - loss: 0.0685 - accuracy: 0.9747 - val_loss: 0.0836 - val_accuracy: 0.9615\n",
      "Epoch 8/10\n",
      "5750/5750 - 54s - loss: 0.0664 - accuracy: 0.9747 - val_loss: 0.1373 - val_accuracy: 0.9525\n",
      "Epoch 9/10\n",
      "5750/5750 - 54s - loss: 0.0644 - accuracy: 0.9754 - val_loss: 0.0988 - val_accuracy: 0.9569\n",
      "Epoch 10/10\n",
      "5750/5750 - 55s - loss: 0.0626 - accuracy: 0.9758 - val_loss: 0.0866 - val_accuracy: 0.9602\n"
     ]
    }
   ],
   "source": [
    "num_epochs = 10\n",
    "earlyStopping = tf.keras.callbacks.EarlyStopping(monitor='loss', patience=3)\n",
    "history = model.fit(training_padded, training_labels, epochs=num_epochs, validation_data=(testing_padded, testing_labels), verbose=2, callbacks=[earlyStopping])"
   ]
  },
  {
   "cell_type": "markdown",
   "id": "9f87af19",
   "metadata": {},
   "source": [
    "## save the model\n"
   ]
  },
  {
   "cell_type": "code",
   "execution_count": 187,
   "id": "686755d1",
   "metadata": {},
   "outputs": [
    {
     "name": "stdout",
     "output_type": "stream",
     "text": [
      "Model: \"sequential_5\"\n",
      "_________________________________________________________________\n",
      "Layer (type)                 Output Shape              Param #   \n",
      "=================================================================\n",
      "embedding_5 (Embedding)      (None, 100, 16)           160000    \n",
      "_________________________________________________________________\n",
      "global_average_pooling1d_5 ( (None, 16)                0         \n",
      "_________________________________________________________________\n",
      "dense_10 (Dense)             (None, 24)                408       \n",
      "_________________________________________________________________\n",
      "dense_11 (Dense)             (None, 4)                 100       \n",
      "=================================================================\n",
      "Total params: 160,508\n",
      "Trainable params: 160,508\n",
      "Non-trainable params: 0\n",
      "_________________________________________________________________\n",
      "None\n",
      "{\"class_name\": \"Sequential\", \"config\": {\"name\": \"sequential_5\", \"layers\": [{\"class_name\": \"InputLayer\", \"config\": {\"batch_input_shape\": [null, 100], \"dtype\": \"float32\", \"sparse\": false, \"ragged\": false, \"name\": \"embedding_5_input\"}}, {\"class_name\": \"Embedding\", \"config\": {\"name\": \"embedding_5\", \"trainable\": true, \"batch_input_shape\": [null, 100], \"dtype\": \"float32\", \"input_dim\": 10000, \"output_dim\": 16, \"embeddings_initializer\": {\"class_name\": \"RandomUniform\", \"config\": {\"minval\": -0.05, \"maxval\": 0.05, \"seed\": null}}, \"embeddings_regularizer\": null, \"activity_regularizer\": null, \"embeddings_constraint\": null, \"mask_zero\": false, \"input_length\": 100}}, {\"class_name\": \"GlobalAveragePooling1D\", \"config\": {\"name\": \"global_average_pooling1d_5\", \"trainable\": true, \"dtype\": \"float32\", \"data_format\": \"channels_last\"}}, {\"class_name\": \"Dense\", \"config\": {\"name\": \"dense_10\", \"trainable\": true, \"dtype\": \"float32\", \"units\": 24, \"activation\": \"relu\", \"use_bias\": true, \"kernel_initializer\": {\"class_name\": \"GlorotUniform\", \"config\": {\"seed\": null}}, \"bias_initializer\": {\"class_name\": \"Zeros\", \"config\": {}}, \"kernel_regularizer\": null, \"bias_regularizer\": null, \"activity_regularizer\": null, \"kernel_constraint\": null, \"bias_constraint\": null}}, {\"class_name\": \"Dense\", \"config\": {\"name\": \"dense_11\", \"trainable\": true, \"dtype\": \"float32\", \"units\": 4, \"activation\": \"sigmoid\", \"use_bias\": true, \"kernel_initializer\": {\"class_name\": \"GlorotUniform\", \"config\": {\"seed\": null}}, \"bias_initializer\": {\"class_name\": \"Zeros\", \"config\": {}}, \"kernel_regularizer\": null, \"bias_regularizer\": null, \"activity_regularizer\": null, \"kernel_constraint\": null, \"bias_constraint\": null}}]}, \"keras_version\": \"2.5.0\", \"backend\": \"tensorflow\"}\n"
     ]
    }
   ],
   "source": [
    "import h5py\n",
    "from keras.models import model_from_json\n",
    "print(model.summary())\n",
    "#model to json\n",
    "model_json = model.to_json()\n",
    "print(model_json)\n",
    "json_file = open(\"model2.json\", \"w\")\n",
    "json_file.write(model_json)\n",
    "#weights to h5\n",
    "model.save_weights(\"model2.h5\")\n"
   ]
  },
  {
   "cell_type": "markdown",
   "id": "93e8a96a",
   "metadata": {},
   "source": [
    "## Load the model"
   ]
  },
  {
   "cell_type": "code",
   "execution_count": 188,
   "id": "7b47edd2",
   "metadata": {},
   "outputs": [],
   "source": [
    "from keras.models import model_from_json\n",
    "\n",
    "# load model\n",
    "jfile = open('model2.json', 'r')\n",
    "loaded_model_json = jfile.read()\n",
    "jfile.close()\n",
    "# print(\"load mdoel\", loaded_model_json)\n",
    "\n",
    "loaded_model = model_from_json(loaded_model_json)\n",
    "# load weights\n",
    "loaded_model.load_weights(\"model2.h5\")\n",
    "# print(\"Loaded model from disk\")\n",
    "# compile the loaded model\n",
    "loaded_model.compile(optimizer='adam', loss='categorical_crossentropy', metrics=['accuracy'])"
   ]
  },
  {
   "cell_type": "markdown",
   "id": "6f656d23",
   "metadata": {},
   "source": [
    "## Real Time Prediction"
   ]
  },
  {
   "cell_type": "code",
   "execution_count": 176,
   "id": "e86e8c0a",
   "metadata": {},
   "outputs": [],
   "source": [
    "def getEmbedding(text):\n",
    "    text_sequence = tokenizer.texts_to_sequences([text]) # every sentence now has a numeric, token ID\n",
    "    text_padded = pad_sequences(text_sequence, maxlen=max_length, padding=padding_type, truncating=trunc_type) # padded to deal with various lengths \n",
    "    return text_padded \n",
    "    "
   ]
  },
  {
   "cell_type": "code",
   "execution_count": 391,
   "id": "31886eab",
   "metadata": {},
   "outputs": [],
   "source": [
    "def predictLanguage(text):\n",
    "    x = getEmbedding(text)\n",
    "#     p = loaded_model.predict(x)\n",
    "    p = model.predict(x)\n",
    "    langdict = {0:\"bengali-latin\", 1:\"bengali-native\", 2:\"hindi-latin\", 3:\"hindi-native\",4:\"english\"}\n",
    "    mle = np.log(p)\n",
    "    mle = np.sum(mle, axis=0)\n",
    "    return langdict[np.argmax(mle)]\n",
    "                    "
   ]
  },
  {
   "cell_type": "code",
   "execution_count": 392,
   "id": "8b1b0c86",
   "metadata": {},
   "outputs": [
    {
     "name": "stdout",
     "output_type": "stream",
     "text": [
      "string : She bhalo\n",
      " pred : bengali-latin\n",
      "string : Bhat khabo \n",
      " pred : bengali-native\n",
      "string : Kya Jahapana?\n",
      " pred : hindi-latin\n",
      "string : আমি তো পাইনি\n",
      " pred : bengali-native\n",
      "string : Mujhko chawal chahiye\n",
      " pred : hindi-latin\n",
      "string : আমি তো বাজারে যাচ্ছি\n",
      " pred : bengali-native\n",
      "string : मैं बाजार जा रहा हूँ\n",
      " pred : hindi-native\n",
      "string : मुझे छूट नहीं मिली\n",
      " pred : hindi-native\n",
      "string : I want discount\n",
      " pred : english\n",
      "string : Hi, anyone there??\n",
      " pred : english\n"
     ]
    }
   ],
   "source": [
    "test_str = [\"She bhalo\", \"Bhat khabo \", \"Kya Jahapana?\", \"আমি তো পাইনি\", \"Mujhko chawal chahiye\",\"আমি তো বাজারে যাচ্ছি\",\n",
    "           \"मैं बाजार जा रहा हूँ\", \"मुझे छूट नहीं मिली\",\"I want discount\", \"Hi, anyone there??\"]\n",
    "result = predictLanguage(x)\n",
    "for s in test_str: \n",
    "    print(\"string : \" + s + \"\\n \" + \"pred : \" + predictLanguage(s))"
   ]
  },
  {
   "cell_type": "markdown",
   "id": "4f302502",
   "metadata": {},
   "source": [
    "## LSTM Model\n"
   ]
  },
  {
   "cell_type": "code",
   "execution_count": 216,
   "id": "a08702d8",
   "metadata": {},
   "outputs": [
    {
     "name": "stdout",
     "output_type": "stream",
     "text": [
      "200000\n",
      "WARNING:tensorflow:Layer lstm_6 will not use cuDNN kernels since it doesn't meet the criteria. It will use a generic GPU kernel as fallback when running on GPU.\n",
      "Model: \"sequential_5\"\n",
      "_________________________________________________________________\n",
      "Layer (type)                 Output Shape              Param #   \n",
      "=================================================================\n",
      "embedding_5 (Embedding)      (None, 100, 16)           160000    \n",
      "_________________________________________________________________\n",
      "global_average_pooling1d_5 ( (None, 16)                0         \n",
      "_________________________________________________________________\n",
      "dense_10 (Dense)             (None, 24)                408       \n",
      "_________________________________________________________________\n",
      "dense_11 (Dense)             (None, 4)                 100       \n",
      "=================================================================\n",
      "Total params: 160,508\n",
      "Trainable params: 160,508\n",
      "Non-trainable params: 0\n",
      "_________________________________________________________________\n",
      "None\n"
     ]
    }
   ],
   "source": [
    "from keras.regularizers import l2\n",
    "lstm_out = 5\n",
    "max_length = 10\n",
    "print(vocab_size)\n",
    "# define the model\n",
    "l_model = tf.keras.Sequential()\n",
    "vocab_size =200000\n",
    "l_model.add(tf.keras.layers.Embedding(vocab_size, 8, input_length=max_length))\n",
    "l_model.add(tf.keras.layers.LSTM(lstm_out, recurrent_initializer=\"random_uniform\", bias_initializer=\"zeros\", dropout=0.2, recurrent_dropout=0.2, kernel_regularizer=l2(0.01), recurrent_regularizer=l2(0.01), bias_regularizer=l2(0.01)))\n",
    "l_model.add(tf.keras.layers.Dense(2, activation='softmax'))\n",
    "\n",
    "# compile the model\n",
    "l_model.compile(optimizer='adam', loss='categorical_crossentropy', metrics=['accuracy'])\n",
    "# summarize the model\n",
    "print(model.summary())\n"
   ]
  },
  {
   "cell_type": "code",
   "execution_count": 217,
   "id": "2c1c95bf",
   "metadata": {},
   "outputs": [],
   "source": [
    "l_model.compile(optimizer='adam', loss='categorical_crossentropy', metrics=['accuracy'])"
   ]
  },
  {
   "cell_type": "code",
   "execution_count": 218,
   "id": "06534364",
   "metadata": {},
   "outputs": [
    {
     "name": "stdout",
     "output_type": "stream",
     "text": [
      "Epoch 1/8\n"
     ]
    },
    {
     "ename": "KeyboardInterrupt",
     "evalue": "",
     "output_type": "error",
     "traceback": [
      "\u001b[0;31m---------------------------------------------------------------------------\u001b[0m",
      "\u001b[0;31mKeyboardInterrupt\u001b[0m                         Traceback (most recent call last)",
      "Input \u001b[0;32mIn [218]\u001b[0m, in \u001b[0;36m<cell line: 1>\u001b[0;34m()\u001b[0m\n\u001b[0;32m----> 1\u001b[0m l_model \u001b[38;5;241m=\u001b[39m \u001b[43mlstm\u001b[49m\u001b[38;5;241;43m.\u001b[39;49m\u001b[43mfit\u001b[49m\u001b[43m(\u001b[49m\u001b[43mtraining_padded\u001b[49m\u001b[43m,\u001b[49m\u001b[43m \u001b[49m\u001b[43mtraining_labels\u001b[49m\u001b[43m,\u001b[49m\u001b[43m \u001b[49m\u001b[43mepochs\u001b[49m\u001b[38;5;241;43m=\u001b[39;49m\u001b[38;5;241;43m8\u001b[39;49m\u001b[43m,\u001b[49m\u001b[43m \u001b[49m\u001b[43mvalidation_data\u001b[49m\u001b[38;5;241;43m=\u001b[39;49m\u001b[43m(\u001b[49m\u001b[43mtesting_padded\u001b[49m\u001b[43m,\u001b[49m\u001b[43m \u001b[49m\u001b[43mtesting_labels\u001b[49m\u001b[43m)\u001b[49m\u001b[43m,\u001b[49m\u001b[43m \u001b[49m\u001b[43mverbose\u001b[49m\u001b[38;5;241;43m=\u001b[39;49m\u001b[38;5;241;43m2\u001b[39;49m\u001b[43m,\u001b[49m\u001b[43m \u001b[49m\u001b[43mcallbacks\u001b[49m\u001b[38;5;241;43m=\u001b[39;49m\u001b[43m[\u001b[49m\u001b[43mearlyStopping\u001b[49m\u001b[43m]\u001b[49m\u001b[43m)\u001b[49m\n",
      "File \u001b[0;32m~/miniforge3/envs/tensorflow/lib/python3.9/site-packages/tensorflow/python/keras/engine/training.py:1183\u001b[0m, in \u001b[0;36mModel.fit\u001b[0;34m(self, x, y, batch_size, epochs, verbose, callbacks, validation_split, validation_data, shuffle, class_weight, sample_weight, initial_epoch, steps_per_epoch, validation_steps, validation_batch_size, validation_freq, max_queue_size, workers, use_multiprocessing)\u001b[0m\n\u001b[1;32m   1176\u001b[0m \u001b[38;5;28;01mwith\u001b[39;00m trace\u001b[38;5;241m.\u001b[39mTrace(\n\u001b[1;32m   1177\u001b[0m     \u001b[38;5;124m'\u001b[39m\u001b[38;5;124mtrain\u001b[39m\u001b[38;5;124m'\u001b[39m,\n\u001b[1;32m   1178\u001b[0m     epoch_num\u001b[38;5;241m=\u001b[39mepoch,\n\u001b[1;32m   1179\u001b[0m     step_num\u001b[38;5;241m=\u001b[39mstep,\n\u001b[1;32m   1180\u001b[0m     batch_size\u001b[38;5;241m=\u001b[39mbatch_size,\n\u001b[1;32m   1181\u001b[0m     _r\u001b[38;5;241m=\u001b[39m\u001b[38;5;241m1\u001b[39m):\n\u001b[1;32m   1182\u001b[0m   callbacks\u001b[38;5;241m.\u001b[39mon_train_batch_begin(step)\n\u001b[0;32m-> 1183\u001b[0m   tmp_logs \u001b[38;5;241m=\u001b[39m \u001b[38;5;28;43mself\u001b[39;49m\u001b[38;5;241;43m.\u001b[39;49m\u001b[43mtrain_function\u001b[49m\u001b[43m(\u001b[49m\u001b[43miterator\u001b[49m\u001b[43m)\u001b[49m\n\u001b[1;32m   1184\u001b[0m   \u001b[38;5;28;01mif\u001b[39;00m data_handler\u001b[38;5;241m.\u001b[39mshould_sync:\n\u001b[1;32m   1185\u001b[0m     context\u001b[38;5;241m.\u001b[39masync_wait()\n",
      "File \u001b[0;32m~/miniforge3/envs/tensorflow/lib/python3.9/site-packages/tensorflow/python/eager/def_function.py:889\u001b[0m, in \u001b[0;36mFunction.__call__\u001b[0;34m(self, *args, **kwds)\u001b[0m\n\u001b[1;32m    886\u001b[0m compiler \u001b[38;5;241m=\u001b[39m \u001b[38;5;124m\"\u001b[39m\u001b[38;5;124mxla\u001b[39m\u001b[38;5;124m\"\u001b[39m \u001b[38;5;28;01mif\u001b[39;00m \u001b[38;5;28mself\u001b[39m\u001b[38;5;241m.\u001b[39m_jit_compile \u001b[38;5;28;01melse\u001b[39;00m \u001b[38;5;124m\"\u001b[39m\u001b[38;5;124mnonXla\u001b[39m\u001b[38;5;124m\"\u001b[39m\n\u001b[1;32m    888\u001b[0m \u001b[38;5;28;01mwith\u001b[39;00m OptionalXlaContext(\u001b[38;5;28mself\u001b[39m\u001b[38;5;241m.\u001b[39m_jit_compile):\n\u001b[0;32m--> 889\u001b[0m   result \u001b[38;5;241m=\u001b[39m \u001b[38;5;28;43mself\u001b[39;49m\u001b[38;5;241;43m.\u001b[39;49m\u001b[43m_call\u001b[49m\u001b[43m(\u001b[49m\u001b[38;5;241;43m*\u001b[39;49m\u001b[43margs\u001b[49m\u001b[43m,\u001b[49m\u001b[43m \u001b[49m\u001b[38;5;241;43m*\u001b[39;49m\u001b[38;5;241;43m*\u001b[39;49m\u001b[43mkwds\u001b[49m\u001b[43m)\u001b[49m\n\u001b[1;32m    891\u001b[0m new_tracing_count \u001b[38;5;241m=\u001b[39m \u001b[38;5;28mself\u001b[39m\u001b[38;5;241m.\u001b[39mexperimental_get_tracing_count()\n\u001b[1;32m    892\u001b[0m without_tracing \u001b[38;5;241m=\u001b[39m (tracing_count \u001b[38;5;241m==\u001b[39m new_tracing_count)\n",
      "File \u001b[0;32m~/miniforge3/envs/tensorflow/lib/python3.9/site-packages/tensorflow/python/eager/def_function.py:917\u001b[0m, in \u001b[0;36mFunction._call\u001b[0;34m(self, *args, **kwds)\u001b[0m\n\u001b[1;32m    914\u001b[0m   \u001b[38;5;28mself\u001b[39m\u001b[38;5;241m.\u001b[39m_lock\u001b[38;5;241m.\u001b[39mrelease()\n\u001b[1;32m    915\u001b[0m   \u001b[38;5;66;03m# In this case we have created variables on the first call, so we run the\u001b[39;00m\n\u001b[1;32m    916\u001b[0m   \u001b[38;5;66;03m# defunned version which is guaranteed to never create variables.\u001b[39;00m\n\u001b[0;32m--> 917\u001b[0m   \u001b[38;5;28;01mreturn\u001b[39;00m \u001b[38;5;28;43mself\u001b[39;49m\u001b[38;5;241;43m.\u001b[39;49m\u001b[43m_stateless_fn\u001b[49m\u001b[43m(\u001b[49m\u001b[38;5;241;43m*\u001b[39;49m\u001b[43margs\u001b[49m\u001b[43m,\u001b[49m\u001b[43m \u001b[49m\u001b[38;5;241;43m*\u001b[39;49m\u001b[38;5;241;43m*\u001b[39;49m\u001b[43mkwds\u001b[49m\u001b[43m)\u001b[49m  \u001b[38;5;66;03m# pylint: disable=not-callable\u001b[39;00m\n\u001b[1;32m    918\u001b[0m \u001b[38;5;28;01melif\u001b[39;00m \u001b[38;5;28mself\u001b[39m\u001b[38;5;241m.\u001b[39m_stateful_fn \u001b[38;5;129;01mis\u001b[39;00m \u001b[38;5;129;01mnot\u001b[39;00m \u001b[38;5;28;01mNone\u001b[39;00m:\n\u001b[1;32m    919\u001b[0m   \u001b[38;5;66;03m# Release the lock early so that multiple threads can perform the call\u001b[39;00m\n\u001b[1;32m    920\u001b[0m   \u001b[38;5;66;03m# in parallel.\u001b[39;00m\n\u001b[1;32m    921\u001b[0m   \u001b[38;5;28mself\u001b[39m\u001b[38;5;241m.\u001b[39m_lock\u001b[38;5;241m.\u001b[39mrelease()\n",
      "File \u001b[0;32m~/miniforge3/envs/tensorflow/lib/python3.9/site-packages/tensorflow/python/eager/function.py:3023\u001b[0m, in \u001b[0;36mFunction.__call__\u001b[0;34m(self, *args, **kwargs)\u001b[0m\n\u001b[1;32m   3020\u001b[0m \u001b[38;5;28;01mwith\u001b[39;00m \u001b[38;5;28mself\u001b[39m\u001b[38;5;241m.\u001b[39m_lock:\n\u001b[1;32m   3021\u001b[0m   (graph_function,\n\u001b[1;32m   3022\u001b[0m    filtered_flat_args) \u001b[38;5;241m=\u001b[39m \u001b[38;5;28mself\u001b[39m\u001b[38;5;241m.\u001b[39m_maybe_define_function(args, kwargs)\n\u001b[0;32m-> 3023\u001b[0m \u001b[38;5;28;01mreturn\u001b[39;00m \u001b[43mgraph_function\u001b[49m\u001b[38;5;241;43m.\u001b[39;49m\u001b[43m_call_flat\u001b[49m\u001b[43m(\u001b[49m\n\u001b[1;32m   3024\u001b[0m \u001b[43m    \u001b[49m\u001b[43mfiltered_flat_args\u001b[49m\u001b[43m,\u001b[49m\u001b[43m \u001b[49m\u001b[43mcaptured_inputs\u001b[49m\u001b[38;5;241;43m=\u001b[39;49m\u001b[43mgraph_function\u001b[49m\u001b[38;5;241;43m.\u001b[39;49m\u001b[43mcaptured_inputs\u001b[49m\u001b[43m)\u001b[49m\n",
      "File \u001b[0;32m~/miniforge3/envs/tensorflow/lib/python3.9/site-packages/tensorflow/python/eager/function.py:1960\u001b[0m, in \u001b[0;36mConcreteFunction._call_flat\u001b[0;34m(self, args, captured_inputs, cancellation_manager)\u001b[0m\n\u001b[1;32m   1956\u001b[0m possible_gradient_type \u001b[38;5;241m=\u001b[39m gradients_util\u001b[38;5;241m.\u001b[39mPossibleTapeGradientTypes(args)\n\u001b[1;32m   1957\u001b[0m \u001b[38;5;28;01mif\u001b[39;00m (possible_gradient_type \u001b[38;5;241m==\u001b[39m gradients_util\u001b[38;5;241m.\u001b[39mPOSSIBLE_GRADIENT_TYPES_NONE\n\u001b[1;32m   1958\u001b[0m     \u001b[38;5;129;01mand\u001b[39;00m executing_eagerly):\n\u001b[1;32m   1959\u001b[0m   \u001b[38;5;66;03m# No tape is watching; skip to running the function.\u001b[39;00m\n\u001b[0;32m-> 1960\u001b[0m   \u001b[38;5;28;01mreturn\u001b[39;00m \u001b[38;5;28mself\u001b[39m\u001b[38;5;241m.\u001b[39m_build_call_outputs(\u001b[38;5;28;43mself\u001b[39;49m\u001b[38;5;241;43m.\u001b[39;49m\u001b[43m_inference_function\u001b[49m\u001b[38;5;241;43m.\u001b[39;49m\u001b[43mcall\u001b[49m\u001b[43m(\u001b[49m\n\u001b[1;32m   1961\u001b[0m \u001b[43m      \u001b[49m\u001b[43mctx\u001b[49m\u001b[43m,\u001b[49m\u001b[43m \u001b[49m\u001b[43margs\u001b[49m\u001b[43m,\u001b[49m\u001b[43m \u001b[49m\u001b[43mcancellation_manager\u001b[49m\u001b[38;5;241;43m=\u001b[39;49m\u001b[43mcancellation_manager\u001b[49m\u001b[43m)\u001b[49m)\n\u001b[1;32m   1962\u001b[0m forward_backward \u001b[38;5;241m=\u001b[39m \u001b[38;5;28mself\u001b[39m\u001b[38;5;241m.\u001b[39m_select_forward_and_backward_functions(\n\u001b[1;32m   1963\u001b[0m     args,\n\u001b[1;32m   1964\u001b[0m     possible_gradient_type,\n\u001b[1;32m   1965\u001b[0m     executing_eagerly)\n\u001b[1;32m   1966\u001b[0m forward_function, args_with_tangents \u001b[38;5;241m=\u001b[39m forward_backward\u001b[38;5;241m.\u001b[39mforward()\n",
      "File \u001b[0;32m~/miniforge3/envs/tensorflow/lib/python3.9/site-packages/tensorflow/python/eager/function.py:591\u001b[0m, in \u001b[0;36m_EagerDefinedFunction.call\u001b[0;34m(self, ctx, args, cancellation_manager)\u001b[0m\n\u001b[1;32m    589\u001b[0m \u001b[38;5;28;01mwith\u001b[39;00m _InterpolateFunctionError(\u001b[38;5;28mself\u001b[39m):\n\u001b[1;32m    590\u001b[0m   \u001b[38;5;28;01mif\u001b[39;00m cancellation_manager \u001b[38;5;129;01mis\u001b[39;00m \u001b[38;5;28;01mNone\u001b[39;00m:\n\u001b[0;32m--> 591\u001b[0m     outputs \u001b[38;5;241m=\u001b[39m \u001b[43mexecute\u001b[49m\u001b[38;5;241;43m.\u001b[39;49m\u001b[43mexecute\u001b[49m\u001b[43m(\u001b[49m\n\u001b[1;32m    592\u001b[0m \u001b[43m        \u001b[49m\u001b[38;5;28;43mstr\u001b[39;49m\u001b[43m(\u001b[49m\u001b[38;5;28;43mself\u001b[39;49m\u001b[38;5;241;43m.\u001b[39;49m\u001b[43msignature\u001b[49m\u001b[38;5;241;43m.\u001b[39;49m\u001b[43mname\u001b[49m\u001b[43m)\u001b[49m\u001b[43m,\u001b[49m\n\u001b[1;32m    593\u001b[0m \u001b[43m        \u001b[49m\u001b[43mnum_outputs\u001b[49m\u001b[38;5;241;43m=\u001b[39;49m\u001b[38;5;28;43mself\u001b[39;49m\u001b[38;5;241;43m.\u001b[39;49m\u001b[43m_num_outputs\u001b[49m\u001b[43m,\u001b[49m\n\u001b[1;32m    594\u001b[0m \u001b[43m        \u001b[49m\u001b[43minputs\u001b[49m\u001b[38;5;241;43m=\u001b[39;49m\u001b[43margs\u001b[49m\u001b[43m,\u001b[49m\n\u001b[1;32m    595\u001b[0m \u001b[43m        \u001b[49m\u001b[43mattrs\u001b[49m\u001b[38;5;241;43m=\u001b[39;49m\u001b[43mattrs\u001b[49m\u001b[43m,\u001b[49m\n\u001b[1;32m    596\u001b[0m \u001b[43m        \u001b[49m\u001b[43mctx\u001b[49m\u001b[38;5;241;43m=\u001b[39;49m\u001b[43mctx\u001b[49m\u001b[43m)\u001b[49m\n\u001b[1;32m    597\u001b[0m   \u001b[38;5;28;01melse\u001b[39;00m:\n\u001b[1;32m    598\u001b[0m     outputs \u001b[38;5;241m=\u001b[39m execute\u001b[38;5;241m.\u001b[39mexecute_with_cancellation(\n\u001b[1;32m    599\u001b[0m         \u001b[38;5;28mstr\u001b[39m(\u001b[38;5;28mself\u001b[39m\u001b[38;5;241m.\u001b[39msignature\u001b[38;5;241m.\u001b[39mname),\n\u001b[1;32m    600\u001b[0m         num_outputs\u001b[38;5;241m=\u001b[39m\u001b[38;5;28mself\u001b[39m\u001b[38;5;241m.\u001b[39m_num_outputs,\n\u001b[0;32m   (...)\u001b[0m\n\u001b[1;32m    603\u001b[0m         ctx\u001b[38;5;241m=\u001b[39mctx,\n\u001b[1;32m    604\u001b[0m         cancellation_manager\u001b[38;5;241m=\u001b[39mcancellation_manager)\n",
      "File \u001b[0;32m~/miniforge3/envs/tensorflow/lib/python3.9/site-packages/tensorflow/python/eager/execute.py:59\u001b[0m, in \u001b[0;36mquick_execute\u001b[0;34m(op_name, num_outputs, inputs, attrs, ctx, name)\u001b[0m\n\u001b[1;32m     57\u001b[0m \u001b[38;5;28;01mtry\u001b[39;00m:\n\u001b[1;32m     58\u001b[0m   ctx\u001b[38;5;241m.\u001b[39mensure_initialized()\n\u001b[0;32m---> 59\u001b[0m   tensors \u001b[38;5;241m=\u001b[39m \u001b[43mpywrap_tfe\u001b[49m\u001b[38;5;241;43m.\u001b[39;49m\u001b[43mTFE_Py_Execute\u001b[49m\u001b[43m(\u001b[49m\u001b[43mctx\u001b[49m\u001b[38;5;241;43m.\u001b[39;49m\u001b[43m_handle\u001b[49m\u001b[43m,\u001b[49m\u001b[43m \u001b[49m\u001b[43mdevice_name\u001b[49m\u001b[43m,\u001b[49m\u001b[43m \u001b[49m\u001b[43mop_name\u001b[49m\u001b[43m,\u001b[49m\n\u001b[1;32m     60\u001b[0m \u001b[43m                                      \u001b[49m\u001b[43minputs\u001b[49m\u001b[43m,\u001b[49m\u001b[43m \u001b[49m\u001b[43mattrs\u001b[49m\u001b[43m,\u001b[49m\u001b[43m \u001b[49m\u001b[43mnum_outputs\u001b[49m\u001b[43m)\u001b[49m\n\u001b[1;32m     61\u001b[0m \u001b[38;5;28;01mexcept\u001b[39;00m core\u001b[38;5;241m.\u001b[39m_NotOkStatusException \u001b[38;5;28;01mas\u001b[39;00m e:\n\u001b[1;32m     62\u001b[0m   \u001b[38;5;28;01mif\u001b[39;00m name \u001b[38;5;129;01mis\u001b[39;00m \u001b[38;5;129;01mnot\u001b[39;00m \u001b[38;5;28;01mNone\u001b[39;00m:\n",
      "\u001b[0;31mKeyboardInterrupt\u001b[0m: "
     ]
    }
   ],
   "source": [
    "\n",
    "l_model = lstm.fit(training_padded, training_labels, epochs=8, validation_data=(testing_padded, testing_labels), verbose=2, callbacks=[earlyStopping])"
   ]
  },
  {
   "cell_type": "code",
   "execution_count": 204,
   "id": "6be270e1",
   "metadata": {},
   "outputs": [],
   "source": [
    "# model 2 \n",
    "lstm = tf.keras.Sequential([\n",
    "tf.keras.layers.Embedding(vocab_size, embedding_dim, input_length=max_length),\n",
    "# tf.keras.layers.Bidirectional(tf.keras.layers.LSTM (64)),\n",
    "tf.keras.layers.LSTM (64),\n",
    "tf.keras.layers.Dense (64, activation='relu'),\n",
    "tf.keras.layers.Dense(4, activation='softmax')\n",
    "])\n"
   ]
  },
  {
   "cell_type": "code",
   "execution_count": 201,
   "id": "0d44073e",
   "metadata": {},
   "outputs": [
    {
     "name": "stdout",
     "output_type": "stream",
     "text": [
      "Model: \"sequential_7\"\n",
      "_________________________________________________________________\n",
      "Layer (type)                 Output Shape              Param #   \n",
      "=================================================================\n",
      "embedding_7 (Embedding)      (None, 100, 16)           160000    \n",
      "_________________________________________________________________\n",
      "lstm_1 (LSTM)                (None, 64)                20736     \n",
      "_________________________________________________________________\n",
      "dense_14 (Dense)             (None, 64)                4160      \n",
      "_________________________________________________________________\n",
      "dense_15 (Dense)             (None, 4)                 260       \n",
      "=================================================================\n",
      "Total params: 185,156\n",
      "Trainable params: 185,156\n",
      "Non-trainable params: 0\n",
      "_________________________________________________________________\n"
     ]
    }
   ],
   "source": [
    "lstm.summary()"
   ]
  },
  {
   "cell_type": "code",
   "execution_count": 205,
   "id": "3dad8f2d",
   "metadata": {},
   "outputs": [],
   "source": [
    "lstm.compile(optimizer='adam', loss='categorical_crossentropy', metrics=['accuracy'])"
   ]
  },
  {
   "cell_type": "code",
   "execution_count": 207,
   "id": "63e81b16",
   "metadata": {},
   "outputs": [
    {
     "name": "stdout",
     "output_type": "stream",
     "text": [
      "Epoch 1/8\n"
     ]
    },
    {
     "ename": "KeyboardInterrupt",
     "evalue": "",
     "output_type": "error",
     "traceback": [
      "\u001b[0;31m---------------------------------------------------------------------------\u001b[0m",
      "\u001b[0;31mKeyboardInterrupt\u001b[0m                         Traceback (most recent call last)",
      "Input \u001b[0;32mIn [207]\u001b[0m, in \u001b[0;36m<cell line: 1>\u001b[0;34m()\u001b[0m\n\u001b[0;32m----> 1\u001b[0m lstm_history \u001b[38;5;241m=\u001b[39m \u001b[43mlstm\u001b[49m\u001b[38;5;241;43m.\u001b[39;49m\u001b[43mfit\u001b[49m\u001b[43m(\u001b[49m\u001b[43mtraining_padded\u001b[49m\u001b[43m,\u001b[49m\u001b[43m \u001b[49m\u001b[43mtraining_labels\u001b[49m\u001b[43m,\u001b[49m\u001b[43m \u001b[49m\u001b[43mepochs\u001b[49m\u001b[38;5;241;43m=\u001b[39;49m\u001b[38;5;241;43m8\u001b[39;49m\u001b[43m,\u001b[49m\u001b[43m \u001b[49m\u001b[43mvalidation_data\u001b[49m\u001b[38;5;241;43m=\u001b[39;49m\u001b[43m(\u001b[49m\u001b[43mtesting_padded\u001b[49m\u001b[43m,\u001b[49m\u001b[43m \u001b[49m\u001b[43mtesting_labels\u001b[49m\u001b[43m)\u001b[49m\u001b[43m,\u001b[49m\u001b[43m \u001b[49m\u001b[43mverbose\u001b[49m\u001b[38;5;241;43m=\u001b[39;49m\u001b[38;5;241;43m2\u001b[39;49m\u001b[43m,\u001b[49m\u001b[43m \u001b[49m\u001b[43mcallbacks\u001b[49m\u001b[38;5;241;43m=\u001b[39;49m\u001b[43m[\u001b[49m\u001b[43mearlyStopping\u001b[49m\u001b[43m]\u001b[49m\u001b[43m)\u001b[49m\n",
      "File \u001b[0;32m~/miniforge3/envs/tensorflow/lib/python3.9/site-packages/tensorflow/python/keras/engine/training.py:1183\u001b[0m, in \u001b[0;36mModel.fit\u001b[0;34m(self, x, y, batch_size, epochs, verbose, callbacks, validation_split, validation_data, shuffle, class_weight, sample_weight, initial_epoch, steps_per_epoch, validation_steps, validation_batch_size, validation_freq, max_queue_size, workers, use_multiprocessing)\u001b[0m\n\u001b[1;32m   1176\u001b[0m \u001b[38;5;28;01mwith\u001b[39;00m trace\u001b[38;5;241m.\u001b[39mTrace(\n\u001b[1;32m   1177\u001b[0m     \u001b[38;5;124m'\u001b[39m\u001b[38;5;124mtrain\u001b[39m\u001b[38;5;124m'\u001b[39m,\n\u001b[1;32m   1178\u001b[0m     epoch_num\u001b[38;5;241m=\u001b[39mepoch,\n\u001b[1;32m   1179\u001b[0m     step_num\u001b[38;5;241m=\u001b[39mstep,\n\u001b[1;32m   1180\u001b[0m     batch_size\u001b[38;5;241m=\u001b[39mbatch_size,\n\u001b[1;32m   1181\u001b[0m     _r\u001b[38;5;241m=\u001b[39m\u001b[38;5;241m1\u001b[39m):\n\u001b[1;32m   1182\u001b[0m   callbacks\u001b[38;5;241m.\u001b[39mon_train_batch_begin(step)\n\u001b[0;32m-> 1183\u001b[0m   tmp_logs \u001b[38;5;241m=\u001b[39m \u001b[38;5;28;43mself\u001b[39;49m\u001b[38;5;241;43m.\u001b[39;49m\u001b[43mtrain_function\u001b[49m\u001b[43m(\u001b[49m\u001b[43miterator\u001b[49m\u001b[43m)\u001b[49m\n\u001b[1;32m   1184\u001b[0m   \u001b[38;5;28;01mif\u001b[39;00m data_handler\u001b[38;5;241m.\u001b[39mshould_sync:\n\u001b[1;32m   1185\u001b[0m     context\u001b[38;5;241m.\u001b[39masync_wait()\n",
      "File \u001b[0;32m~/miniforge3/envs/tensorflow/lib/python3.9/site-packages/tensorflow/python/eager/def_function.py:889\u001b[0m, in \u001b[0;36mFunction.__call__\u001b[0;34m(self, *args, **kwds)\u001b[0m\n\u001b[1;32m    886\u001b[0m compiler \u001b[38;5;241m=\u001b[39m \u001b[38;5;124m\"\u001b[39m\u001b[38;5;124mxla\u001b[39m\u001b[38;5;124m\"\u001b[39m \u001b[38;5;28;01mif\u001b[39;00m \u001b[38;5;28mself\u001b[39m\u001b[38;5;241m.\u001b[39m_jit_compile \u001b[38;5;28;01melse\u001b[39;00m \u001b[38;5;124m\"\u001b[39m\u001b[38;5;124mnonXla\u001b[39m\u001b[38;5;124m\"\u001b[39m\n\u001b[1;32m    888\u001b[0m \u001b[38;5;28;01mwith\u001b[39;00m OptionalXlaContext(\u001b[38;5;28mself\u001b[39m\u001b[38;5;241m.\u001b[39m_jit_compile):\n\u001b[0;32m--> 889\u001b[0m   result \u001b[38;5;241m=\u001b[39m \u001b[38;5;28;43mself\u001b[39;49m\u001b[38;5;241;43m.\u001b[39;49m\u001b[43m_call\u001b[49m\u001b[43m(\u001b[49m\u001b[38;5;241;43m*\u001b[39;49m\u001b[43margs\u001b[49m\u001b[43m,\u001b[49m\u001b[43m \u001b[49m\u001b[38;5;241;43m*\u001b[39;49m\u001b[38;5;241;43m*\u001b[39;49m\u001b[43mkwds\u001b[49m\u001b[43m)\u001b[49m\n\u001b[1;32m    891\u001b[0m new_tracing_count \u001b[38;5;241m=\u001b[39m \u001b[38;5;28mself\u001b[39m\u001b[38;5;241m.\u001b[39mexperimental_get_tracing_count()\n\u001b[1;32m    892\u001b[0m without_tracing \u001b[38;5;241m=\u001b[39m (tracing_count \u001b[38;5;241m==\u001b[39m new_tracing_count)\n",
      "File \u001b[0;32m~/miniforge3/envs/tensorflow/lib/python3.9/site-packages/tensorflow/python/eager/def_function.py:917\u001b[0m, in \u001b[0;36mFunction._call\u001b[0;34m(self, *args, **kwds)\u001b[0m\n\u001b[1;32m    914\u001b[0m   \u001b[38;5;28mself\u001b[39m\u001b[38;5;241m.\u001b[39m_lock\u001b[38;5;241m.\u001b[39mrelease()\n\u001b[1;32m    915\u001b[0m   \u001b[38;5;66;03m# In this case we have created variables on the first call, so we run the\u001b[39;00m\n\u001b[1;32m    916\u001b[0m   \u001b[38;5;66;03m# defunned version which is guaranteed to never create variables.\u001b[39;00m\n\u001b[0;32m--> 917\u001b[0m   \u001b[38;5;28;01mreturn\u001b[39;00m \u001b[38;5;28;43mself\u001b[39;49m\u001b[38;5;241;43m.\u001b[39;49m\u001b[43m_stateless_fn\u001b[49m\u001b[43m(\u001b[49m\u001b[38;5;241;43m*\u001b[39;49m\u001b[43margs\u001b[49m\u001b[43m,\u001b[49m\u001b[43m \u001b[49m\u001b[38;5;241;43m*\u001b[39;49m\u001b[38;5;241;43m*\u001b[39;49m\u001b[43mkwds\u001b[49m\u001b[43m)\u001b[49m  \u001b[38;5;66;03m# pylint: disable=not-callable\u001b[39;00m\n\u001b[1;32m    918\u001b[0m \u001b[38;5;28;01melif\u001b[39;00m \u001b[38;5;28mself\u001b[39m\u001b[38;5;241m.\u001b[39m_stateful_fn \u001b[38;5;129;01mis\u001b[39;00m \u001b[38;5;129;01mnot\u001b[39;00m \u001b[38;5;28;01mNone\u001b[39;00m:\n\u001b[1;32m    919\u001b[0m   \u001b[38;5;66;03m# Release the lock early so that multiple threads can perform the call\u001b[39;00m\n\u001b[1;32m    920\u001b[0m   \u001b[38;5;66;03m# in parallel.\u001b[39;00m\n\u001b[1;32m    921\u001b[0m   \u001b[38;5;28mself\u001b[39m\u001b[38;5;241m.\u001b[39m_lock\u001b[38;5;241m.\u001b[39mrelease()\n",
      "File \u001b[0;32m~/miniforge3/envs/tensorflow/lib/python3.9/site-packages/tensorflow/python/eager/function.py:3023\u001b[0m, in \u001b[0;36mFunction.__call__\u001b[0;34m(self, *args, **kwargs)\u001b[0m\n\u001b[1;32m   3020\u001b[0m \u001b[38;5;28;01mwith\u001b[39;00m \u001b[38;5;28mself\u001b[39m\u001b[38;5;241m.\u001b[39m_lock:\n\u001b[1;32m   3021\u001b[0m   (graph_function,\n\u001b[1;32m   3022\u001b[0m    filtered_flat_args) \u001b[38;5;241m=\u001b[39m \u001b[38;5;28mself\u001b[39m\u001b[38;5;241m.\u001b[39m_maybe_define_function(args, kwargs)\n\u001b[0;32m-> 3023\u001b[0m \u001b[38;5;28;01mreturn\u001b[39;00m \u001b[43mgraph_function\u001b[49m\u001b[38;5;241;43m.\u001b[39;49m\u001b[43m_call_flat\u001b[49m\u001b[43m(\u001b[49m\n\u001b[1;32m   3024\u001b[0m \u001b[43m    \u001b[49m\u001b[43mfiltered_flat_args\u001b[49m\u001b[43m,\u001b[49m\u001b[43m \u001b[49m\u001b[43mcaptured_inputs\u001b[49m\u001b[38;5;241;43m=\u001b[39;49m\u001b[43mgraph_function\u001b[49m\u001b[38;5;241;43m.\u001b[39;49m\u001b[43mcaptured_inputs\u001b[49m\u001b[43m)\u001b[49m\n",
      "File \u001b[0;32m~/miniforge3/envs/tensorflow/lib/python3.9/site-packages/tensorflow/python/eager/function.py:1960\u001b[0m, in \u001b[0;36mConcreteFunction._call_flat\u001b[0;34m(self, args, captured_inputs, cancellation_manager)\u001b[0m\n\u001b[1;32m   1956\u001b[0m possible_gradient_type \u001b[38;5;241m=\u001b[39m gradients_util\u001b[38;5;241m.\u001b[39mPossibleTapeGradientTypes(args)\n\u001b[1;32m   1957\u001b[0m \u001b[38;5;28;01mif\u001b[39;00m (possible_gradient_type \u001b[38;5;241m==\u001b[39m gradients_util\u001b[38;5;241m.\u001b[39mPOSSIBLE_GRADIENT_TYPES_NONE\n\u001b[1;32m   1958\u001b[0m     \u001b[38;5;129;01mand\u001b[39;00m executing_eagerly):\n\u001b[1;32m   1959\u001b[0m   \u001b[38;5;66;03m# No tape is watching; skip to running the function.\u001b[39;00m\n\u001b[0;32m-> 1960\u001b[0m   \u001b[38;5;28;01mreturn\u001b[39;00m \u001b[38;5;28mself\u001b[39m\u001b[38;5;241m.\u001b[39m_build_call_outputs(\u001b[38;5;28;43mself\u001b[39;49m\u001b[38;5;241;43m.\u001b[39;49m\u001b[43m_inference_function\u001b[49m\u001b[38;5;241;43m.\u001b[39;49m\u001b[43mcall\u001b[49m\u001b[43m(\u001b[49m\n\u001b[1;32m   1961\u001b[0m \u001b[43m      \u001b[49m\u001b[43mctx\u001b[49m\u001b[43m,\u001b[49m\u001b[43m \u001b[49m\u001b[43margs\u001b[49m\u001b[43m,\u001b[49m\u001b[43m \u001b[49m\u001b[43mcancellation_manager\u001b[49m\u001b[38;5;241;43m=\u001b[39;49m\u001b[43mcancellation_manager\u001b[49m\u001b[43m)\u001b[49m)\n\u001b[1;32m   1962\u001b[0m forward_backward \u001b[38;5;241m=\u001b[39m \u001b[38;5;28mself\u001b[39m\u001b[38;5;241m.\u001b[39m_select_forward_and_backward_functions(\n\u001b[1;32m   1963\u001b[0m     args,\n\u001b[1;32m   1964\u001b[0m     possible_gradient_type,\n\u001b[1;32m   1965\u001b[0m     executing_eagerly)\n\u001b[1;32m   1966\u001b[0m forward_function, args_with_tangents \u001b[38;5;241m=\u001b[39m forward_backward\u001b[38;5;241m.\u001b[39mforward()\n",
      "File \u001b[0;32m~/miniforge3/envs/tensorflow/lib/python3.9/site-packages/tensorflow/python/eager/function.py:591\u001b[0m, in \u001b[0;36m_EagerDefinedFunction.call\u001b[0;34m(self, ctx, args, cancellation_manager)\u001b[0m\n\u001b[1;32m    589\u001b[0m \u001b[38;5;28;01mwith\u001b[39;00m _InterpolateFunctionError(\u001b[38;5;28mself\u001b[39m):\n\u001b[1;32m    590\u001b[0m   \u001b[38;5;28;01mif\u001b[39;00m cancellation_manager \u001b[38;5;129;01mis\u001b[39;00m \u001b[38;5;28;01mNone\u001b[39;00m:\n\u001b[0;32m--> 591\u001b[0m     outputs \u001b[38;5;241m=\u001b[39m \u001b[43mexecute\u001b[49m\u001b[38;5;241;43m.\u001b[39;49m\u001b[43mexecute\u001b[49m\u001b[43m(\u001b[49m\n\u001b[1;32m    592\u001b[0m \u001b[43m        \u001b[49m\u001b[38;5;28;43mstr\u001b[39;49m\u001b[43m(\u001b[49m\u001b[38;5;28;43mself\u001b[39;49m\u001b[38;5;241;43m.\u001b[39;49m\u001b[43msignature\u001b[49m\u001b[38;5;241;43m.\u001b[39;49m\u001b[43mname\u001b[49m\u001b[43m)\u001b[49m\u001b[43m,\u001b[49m\n\u001b[1;32m    593\u001b[0m \u001b[43m        \u001b[49m\u001b[43mnum_outputs\u001b[49m\u001b[38;5;241;43m=\u001b[39;49m\u001b[38;5;28;43mself\u001b[39;49m\u001b[38;5;241;43m.\u001b[39;49m\u001b[43m_num_outputs\u001b[49m\u001b[43m,\u001b[49m\n\u001b[1;32m    594\u001b[0m \u001b[43m        \u001b[49m\u001b[43minputs\u001b[49m\u001b[38;5;241;43m=\u001b[39;49m\u001b[43margs\u001b[49m\u001b[43m,\u001b[49m\n\u001b[1;32m    595\u001b[0m \u001b[43m        \u001b[49m\u001b[43mattrs\u001b[49m\u001b[38;5;241;43m=\u001b[39;49m\u001b[43mattrs\u001b[49m\u001b[43m,\u001b[49m\n\u001b[1;32m    596\u001b[0m \u001b[43m        \u001b[49m\u001b[43mctx\u001b[49m\u001b[38;5;241;43m=\u001b[39;49m\u001b[43mctx\u001b[49m\u001b[43m)\u001b[49m\n\u001b[1;32m    597\u001b[0m   \u001b[38;5;28;01melse\u001b[39;00m:\n\u001b[1;32m    598\u001b[0m     outputs \u001b[38;5;241m=\u001b[39m execute\u001b[38;5;241m.\u001b[39mexecute_with_cancellation(\n\u001b[1;32m    599\u001b[0m         \u001b[38;5;28mstr\u001b[39m(\u001b[38;5;28mself\u001b[39m\u001b[38;5;241m.\u001b[39msignature\u001b[38;5;241m.\u001b[39mname),\n\u001b[1;32m    600\u001b[0m         num_outputs\u001b[38;5;241m=\u001b[39m\u001b[38;5;28mself\u001b[39m\u001b[38;5;241m.\u001b[39m_num_outputs,\n\u001b[0;32m   (...)\u001b[0m\n\u001b[1;32m    603\u001b[0m         ctx\u001b[38;5;241m=\u001b[39mctx,\n\u001b[1;32m    604\u001b[0m         cancellation_manager\u001b[38;5;241m=\u001b[39mcancellation_manager)\n",
      "File \u001b[0;32m~/miniforge3/envs/tensorflow/lib/python3.9/site-packages/tensorflow/python/eager/execute.py:59\u001b[0m, in \u001b[0;36mquick_execute\u001b[0;34m(op_name, num_outputs, inputs, attrs, ctx, name)\u001b[0m\n\u001b[1;32m     57\u001b[0m \u001b[38;5;28;01mtry\u001b[39;00m:\n\u001b[1;32m     58\u001b[0m   ctx\u001b[38;5;241m.\u001b[39mensure_initialized()\n\u001b[0;32m---> 59\u001b[0m   tensors \u001b[38;5;241m=\u001b[39m \u001b[43mpywrap_tfe\u001b[49m\u001b[38;5;241;43m.\u001b[39;49m\u001b[43mTFE_Py_Execute\u001b[49m\u001b[43m(\u001b[49m\u001b[43mctx\u001b[49m\u001b[38;5;241;43m.\u001b[39;49m\u001b[43m_handle\u001b[49m\u001b[43m,\u001b[49m\u001b[43m \u001b[49m\u001b[43mdevice_name\u001b[49m\u001b[43m,\u001b[49m\u001b[43m \u001b[49m\u001b[43mop_name\u001b[49m\u001b[43m,\u001b[49m\n\u001b[1;32m     60\u001b[0m \u001b[43m                                      \u001b[49m\u001b[43minputs\u001b[49m\u001b[43m,\u001b[49m\u001b[43m \u001b[49m\u001b[43mattrs\u001b[49m\u001b[43m,\u001b[49m\u001b[43m \u001b[49m\u001b[43mnum_outputs\u001b[49m\u001b[43m)\u001b[49m\n\u001b[1;32m     61\u001b[0m \u001b[38;5;28;01mexcept\u001b[39;00m core\u001b[38;5;241m.\u001b[39m_NotOkStatusException \u001b[38;5;28;01mas\u001b[39;00m e:\n\u001b[1;32m     62\u001b[0m   \u001b[38;5;28;01mif\u001b[39;00m name \u001b[38;5;129;01mis\u001b[39;00m \u001b[38;5;129;01mnot\u001b[39;00m \u001b[38;5;28;01mNone\u001b[39;00m:\n",
      "\u001b[0;31mKeyboardInterrupt\u001b[0m: "
     ]
    }
   ],
   "source": [
    "# accuracy 85% only \n",
    "lstm_history = lstm.fit(training_padded, training_labels, epochs=8, validation_data=(testing_padded, testing_labels), verbose=2, callbacks=[earlyStopping])"
   ]
  },
  {
   "cell_type": "code",
   "execution_count": null,
   "id": "b7cf479e",
   "metadata": {},
   "outputs": [],
   "source": [
    "print(vocab_size)"
   ]
  },
  {
   "cell_type": "code",
   "execution_count": null,
   "id": "de78af16",
   "metadata": {},
   "outputs": [],
   "source": []
  }
 ],
 "metadata": {
  "kernelspec": {
   "display_name": "Python 3 (ipykernel)",
   "language": "python",
   "name": "python3"
  },
  "language_info": {
   "codemirror_mode": {
    "name": "ipython",
    "version": 3
   },
   "file_extension": ".py",
   "mimetype": "text/x-python",
   "name": "python",
   "nbconvert_exporter": "python",
   "pygments_lexer": "ipython3",
   "version": "3.9.13"
  }
 },
 "nbformat": 4,
 "nbformat_minor": 5
}
