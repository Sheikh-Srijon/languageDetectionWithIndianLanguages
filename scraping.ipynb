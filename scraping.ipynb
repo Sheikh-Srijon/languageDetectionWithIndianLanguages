{
 "cells": [
  {
   "cell_type": "code",
   "execution_count": 22,
   "id": "4c67ac1c",
   "metadata": {},
   "outputs": [
    {
     "name": "stderr",
     "output_type": "stream",
     "text": [
      "[nltk_data] Downloading package words to /Users/srijon1/nltk_data...\n",
      "[nltk_data]   Package words is already up-to-date!\n"
     ]
    },
    {
     "data": {
      "text/plain": [
       "True"
      ]
     },
     "execution_count": 22,
     "metadata": {},
     "output_type": "execute_result"
    }
   ],
   "source": [
    "from bs4 import BeautifulSoup as bs\n",
    "import requests\n",
    "from urllib.request import urlopen\n",
    "import re #regex\n",
    "import pandas as pd\n",
    "import nltk\n",
    "from nltk.corpus import words\n",
    "nltk.download('words')"
   ]
  },
  {
   "cell_type": "code",
   "execution_count": 23,
   "id": "927a0729",
   "metadata": {},
   "outputs": [
    {
     "ename": "TypeError",
     "evalue": "'LazyCorpusLoader' object is not iterable",
     "output_type": "error",
     "traceback": [
      "\u001b[0;31m---------------------------------------------------------------------------\u001b[0m",
      "\u001b[0;31mTypeError\u001b[0m                                 Traceback (most recent call last)",
      "Input \u001b[0;32mIn [23]\u001b[0m, in \u001b[0;36m<cell line: 1>\u001b[0;34m()\u001b[0m\n\u001b[0;32m----> 1\u001b[0m englishCorpus \u001b[38;5;241m=\u001b[39m \u001b[38;5;28;43mset\u001b[39;49m\u001b[43m(\u001b[49m\u001b[43mwords\u001b[49m\u001b[43m)\u001b[49m\n",
      "\u001b[0;31mTypeError\u001b[0m: 'LazyCorpusLoader' object is not iterable"
     ]
    }
   ],
   "source": [
    "englishCorpus = set(words)\n"
   ]
  },
  {
   "cell_type": "code",
   "execution_count": 4,
   "id": "e6d853f0",
   "metadata": {},
   "outputs": [],
   "source": [
    "def getLyrics(url):\n",
    "    lyrics = []\n",
    "    soup = bs(urlopen(url), 'html.parser')\n",
    "    songDiv=  soup.find(class_= 'feat').next_sibling.next_sibling.next_sibling.next_sibling.next_sibling\n",
    "    print(songDiv)\n",
    "    for child in songDiv.descendants:\n",
    "        if child.text !='\\n' and child.text != '':\n",
    "            newline = r'[\\n]'\n",
    "            cleaned = re.sub( newline, '', child.text)\n",
    "            titleTag = r'[\\r]'\n",
    "            cleaned = re.sub( titleTag, '', cleaned)\n",
    "            lyrics.append(cleaned)\n",
    "    return lyrics\n",
    "    "
   ]
  },
  {
   "cell_type": "code",
   "execution_count": 11,
   "id": "535ccd8a",
   "metadata": {},
   "outputs": [
    {
     "name": "stdout",
     "output_type": "stream",
     "text": [
      "[]\n"
     ]
    }
   ],
   "source": [
    "url = \"https://www.azlyrics.com/b/bollywood.html\"\n",
    "ROOT_URL = \"https://www.azlyrics.com\"\n",
    "response = requests.get(url)\n",
    "html = response.content # the raw html will be unparsable to humans \n",
    "\n",
    "soup = bs(html, \"lxml\") # uses lxml library to parse the raw html \n",
    "allAlbumDivs = soup.find_all(class_=\"listalbum-item\")\n",
    "\n",
    "allSongs = []\n",
    "for listalbum in allAlbumDivs[:10]: \n",
    "    song_url = listalbum.find('a').get('href')\n",
    "    url = ROOT_URL + song_url\n",
    "    lyrics = getLyrics(url)\n",
    "    allSongs.append(lyrics)\n",
    "print(allSongs)\n"
   ]
  },
  {
   "cell_type": "code",
   "execution_count": 73,
   "id": "e5b0da92",
   "metadata": {},
   "outputs": [],
   "source": [
    "# scrape from local dataset \n",
    "def cleanText(song):\n",
    "#     (?<=a).*(?=b)\n",
    "    pattern = r'(?<=-).*(?=-)'\n",
    "    cleaned = re.sub( pattern, '', song)\n",
    "    cleaned = re.sub(r'-', '', cleaned)\n",
    "    cleaned = re.sub(r'\\.','', cleaned)\n",
    "    cleanedList = cleaned.split('\\n')\n",
    "    cleanedList = [x for x in cleanedList if x!='']\n",
    "    return cleanedList"
   ]
  },
  {
   "cell_type": "code",
   "execution_count": 74,
   "id": "05f9cc39",
   "metadata": {},
   "outputs": [],
   "source": [
    "def createTextFile(corpusName, data):\n",
    "    f = open(corpusName,\"w\")\n",
    "    print('cn', corpusName)\n",
    "    for song in data:\n",
    "        cleanedSong = cleanText(song)\n",
    "        for line in cleanedSong: \n",
    "            f.write(line+'\\n')\n",
    "    f.close()"
   ]
  },
  {
   "cell_type": "code",
   "execution_count": 36,
   "id": "e143ca0c",
   "metadata": {},
   "outputs": [
    {
     "name": "stdout",
     "output_type": "stream",
     "text": [
      "1291\n"
     ]
    }
   ],
   "source": [
    "data = pd.read_csv('hindi-lyrics.csv')\n",
    "df = pd.DataFrame(data)\n",
    "\n",
    "allSongs = data.loc[:,\"Lyrics\"]\n",
    "print(len(allSongs))\n",
    "createTextFile(corpusName = \"HindiCorpus.txt\", data = allSongs)\n",
    "    \n"
   ]
  },
  {
   "cell_type": "markdown",
   "id": "7fae0cfd",
   "metadata": {},
   "source": [
    "## Create Bengali Corpora\n"
   ]
  },
  {
   "cell_type": "code",
   "execution_count": 20,
   "id": "dfbfd44c",
   "metadata": {},
   "outputs": [],
   "source": [
    "#returns an array with all the strings \n",
    "def readCSV(dataFile,columnName ): \n",
    "    \"\"\"\n",
    "    readCSV reads a CSV and loads data into an array which is returned\n",
    "    @parameters:\n",
    "    :dataFile:= path to the CSV to be read \n",
    "    :columnName:= name of the column where our data of interest lies \n",
    "    :returns:= the data as an array\n",
    "    \"\"\"\n",
    "    data = pd.read_csv(dataFile)\n",
    "    df = pd.DataFrame(data)\n",
    "    allSongs = data.loc[:, columnName]\n",
    "    return allSongs \n",
    "\n"
   ]
  },
  {
   "cell_type": "code",
   "execution_count": 4,
   "id": "ecf84bf3",
   "metadata": {},
   "outputs": [],
   "source": [
    "allSongs = readCSV(dataFile=\"BanglaSongLyrics.csv\", columnName=\"lyrics\")"
   ]
  },
  {
   "cell_type": "code",
   "execution_count": 5,
   "id": "79fda8fa",
   "metadata": {},
   "outputs": [
    {
     "name": "stdout",
     "output_type": "stream",
     "text": [
      "0    এবার তোমার কথাগুলোর\\nকাছে আমি অপরাজিত\\nজমে থাক...\n",
      "1    আমার ভায়ের রক্তে রাঙানো একুশে ফেব্রুয়ারি\\nআমি ...\n",
      "2    আমি কুকুর হইয়া দেই পাহাড়া\\nদয়াল চান্দের ঘড় বাড়...\n",
      "3    তুমি এসমে আজ যত তরানে ওলা\\nগাউছেলাম বাবা নুরে ...\n",
      "4    আমার আপনার চেয়ে আপন যে জন\\nখুঁজি তারে আমি আপন...\n",
      "Name: lyrics, dtype: object\n"
     ]
    }
   ],
   "source": [
    "print(allSongs[:5])"
   ]
  },
  {
   "cell_type": "code",
   "execution_count": 11,
   "id": "33eb83e5",
   "metadata": {},
   "outputs": [
    {
     "name": "stdout",
     "output_type": "stream",
     "text": [
      "cn banglaNativeCorpus.txt\n"
     ]
    }
   ],
   "source": [
    "createTextFile(corpusName=\"banglaNativeCorpus.txt\", data=allSongs)"
   ]
  },
  {
   "cell_type": "markdown",
   "id": "9fabbdef",
   "metadata": {},
   "source": [
    "## Scrape Native Hindi from csv into txt"
   ]
  },
  {
   "cell_type": "code",
   "execution_count": 51,
   "id": "8f622b9d",
   "metadata": {},
   "outputs": [],
   "source": [
    "allHindiSongs = readCSV(dataFile=\"hindiNativeCorpus.csv\", columnName=\"hindi_sentence\")"
   ]
  },
  {
   "cell_type": "code",
   "execution_count": 54,
   "id": "6eb5738a",
   "metadata": {},
   "outputs": [
    {
     "name": "stdout",
     "output_type": "stream",
     "text": [
      "cn hindiNativeCorpus.txt\n"
     ]
    }
   ],
   "source": [
    "createTextFile(corpusName=\"hindiNativeCorpus.txt\", data=allHindiSongs)"
   ]
  },
  {
   "cell_type": "markdown",
   "id": "107f4999",
   "metadata": {},
   "source": [
    "## Get English Data"
   ]
  },
  {
   "cell_type": "code",
   "execution_count": 49,
   "id": "66638b42",
   "metadata": {},
   "outputs": [],
   "source": [
    "english_text = open('downloads/englishCorpus.txt').readlines()"
   ]
  },
  {
   "cell_type": "code",
   "execution_count": 50,
   "id": "24d683e9",
   "metadata": {},
   "outputs": [
    {
     "name": "stdout",
     "output_type": "stream",
     "text": [
      "10144\n"
     ]
    }
   ],
   "source": [
    "cleaned_english_text = [line.split('\\n')[0] for line in english_text]\n",
    "cleaned_english_text = list(filter(lambda x: x, cleaned_english_text))#rids empty string \n",
    "print(len(cleaned_english_text))\n"
   ]
  },
  {
   "cell_type": "code",
   "execution_count": 79,
   "id": "190dd4fb",
   "metadata": {},
   "outputs": [],
   "source": [
    "imdb_text = readCSV(dataFile=\"downloads/IMDB Dataset.csv\", columnName=\"review\")[:100000]\n",
    "cleaned_imdb = [line.split('\\n')[0] for line in imdb_text]\n",
    "import string \n",
    "eng = []\n",
    "for line in cleaned_imdb: \n",
    "    res = line\n",
    "    res= res.split('\\n')[0]\n",
    "    res = re.sub(re.compile('<.*?>'), '', res)\n",
    "#     res = res.join(res.split(\".\"))\n",
    "    for s in res.split(\".\"):\n",
    "        eng.append(s) \n",
    "\n",
    "# cleaned_imdb = [line.translate(str.maketrans('', '', string.punctuation)) for line in imdb_text]\n"
   ]
  },
  {
   "cell_type": "code",
   "execution_count": null,
   "id": "7675e5c7",
   "metadata": {},
   "outputs": [],
   "source": []
  },
  {
   "cell_type": "code",
   "execution_count": 77,
   "id": "ce11315c",
   "metadata": {},
   "outputs": [],
   "source": [
    "def cleanhtml(raw_html):\n",
    "    cleantext = re.sub(CLEANR, '', raw_html)\n",
    "    return cleantext"
   ]
  },
  {
   "cell_type": "code",
   "execution_count": 81,
   "id": "27ded631",
   "metadata": {},
   "outputs": [
    {
     "name": "stdout",
     "output_type": "stream",
     "text": [
      "cn englishCorpus.txt\n"
     ]
    }
   ],
   "source": [
    "createTextFile(corpusName=\"englishCorpus.txt\", data=eng)"
   ]
  },
  {
   "cell_type": "code",
   "execution_count": null,
   "id": "dd710d5a",
   "metadata": {},
   "outputs": [],
   "source": []
  }
 ],
 "metadata": {
  "kernelspec": {
   "display_name": "Python 3 (ipykernel)",
   "language": "python",
   "name": "python3"
  },
  "language_info": {
   "codemirror_mode": {
    "name": "ipython",
    "version": 3
   },
   "file_extension": ".py",
   "mimetype": "text/x-python",
   "name": "python",
   "nbconvert_exporter": "python",
   "pygments_lexer": "ipython3",
   "version": "3.9.13"
  }
 },
 "nbformat": 4,
 "nbformat_minor": 5
}
